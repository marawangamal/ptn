{
 "cells": [
  {
   "cell_type": "code",
   "execution_count": 8,
   "id": "2c892c64",
   "metadata": {},
   "outputs": [],
   "source": [
    "import torch\n",
    "from tqdm import tqdm\n",
    "\n",
    "from ptn.dists import dists\n",
    "from ptn.dists._abc import AbstractDisributionHeadConfig\n",
    "\n",
    "def train_single_example_dmrg(use_scale_factors=True, iters=1000, model_name=\"mps_bm_dmrg\"):\n",
    "    losses = []\n",
    "    B, R, H, D, V = 32, 8, 8, 1, 2\n",
    "    mt_head = dists[model_name](\n",
    "        AbstractDisributionHeadConfig(\n",
    "            d_model=D,\n",
    "            d_output=V,\n",
    "            horizon=H,\n",
    "            rank=2,\n",
    "            use_scale_factors=use_scale_factors,\n",
    "        ),\n",
    "    )\n",
    "    x = torch.randn(B, D)\n",
    "    y = torch.randint(0, V, (B, H))\n",
    "    for i in tqdm(range(iters), desc=\"Training\", leave=False):\n",
    "        _losses = mt_head.train_example(x, y, lr=1e-3)\n",
    "        # print(f\"[{i}] loss: {losses[-1]:.2f}\")\n",
    "        losses.append(_losses[-1])\n",
    "    return losses\n",
    "\n",
    "def train_single_example_lsf(use_scale_factors=True, iters=1000, model_name=\"mps_bm_lsf\"):\n",
    "    losses = []\n",
    "    B, R, H, D, V = 32, 8, 8, 1, 2\n",
    "    mt_head = dists[model_name](\n",
    "        AbstractDisributionHeadConfig(\n",
    "            d_model=D,\n",
    "            d_output=V,\n",
    "            horizon=H,\n",
    "            rank=2,\n",
    "            use_scale_factors=use_scale_factors,\n",
    "        ),\n",
    "    )\n",
    "    x = torch.randn(B, D)\n",
    "    y = torch.randint(0, V, (B, H))\n",
    "    optimizer = torch.optim.SGD(mt_head.parameters(), lr=1e-3)\n",
    "    for i in tqdm(range(iters), desc=\"Training\", leave=False):\n",
    "        optimizer.zero_grad()\n",
    "        output = mt_head(x, y)\n",
    "        loss = output.loss\n",
    "        loss.backward()\n",
    "        optimizer.step()\n",
    "        losses.append(loss.detach())\n",
    "    return losses"
   ]
  },
  {
   "cell_type": "code",
   "execution_count": 9,
   "id": "5ba78ae2",
   "metadata": {},
   "outputs": [
    {
     "name": "stderr",
     "output_type": "stream",
     "text": [
      "                                                             \r"
     ]
    }
   ],
   "source": [
    "mps_bm_dmrg_losses_nosf = train_single_example_dmrg(use_scale_factors=False, iters=1000)\n",
    "mps_bm_dmrg_losses_sf = train_single_example_dmrg(use_scale_factors=True, iters=1000)\n",
    "\n",
    "mps_bm_lsf_losses_nosf = train_single_example_lsf(use_scale_factors=True, iters=1000, model_name=\"mps_bm_lsf\")\n",
    "mps_bm_lsf_losses_sf = train_single_example_lsf(use_scale_factors=False, iters=1000, model_name=\"mps_bm_lsf\")"
   ]
  },
  {
   "cell_type": "code",
   "execution_count": 10,
   "id": "1068c9bc",
   "metadata": {},
   "outputs": [
    {
     "data": {
      "text/html": [
       "<div>\n",
       "<style scoped>\n",
       "    .dataframe tbody tr th:only-of-type {\n",
       "        vertical-align: middle;\n",
       "    }\n",
       "\n",
       "    .dataframe tbody tr th {\n",
       "        vertical-align: top;\n",
       "    }\n",
       "\n",
       "    .dataframe thead th {\n",
       "        text-align: right;\n",
       "    }\n",
       "</style>\n",
       "<table border=\"1\" class=\"dataframe\">\n",
       "  <thead>\n",
       "    <tr style=\"text-align: right;\">\n",
       "      <th></th>\n",
       "      <th>loss</th>\n",
       "      <th>type</th>\n",
       "      <th>model</th>\n",
       "    </tr>\n",
       "  </thead>\n",
       "  <tbody>\n",
       "    <tr>\n",
       "      <th>0</th>\n",
       "      <td>1.019453</td>\n",
       "      <td>nosf</td>\n",
       "      <td>mps_bm_dmrg</td>\n",
       "    </tr>\n",
       "    <tr>\n",
       "      <th>1</th>\n",
       "      <td>0.993644</td>\n",
       "      <td>nosf</td>\n",
       "      <td>mps_bm_dmrg</td>\n",
       "    </tr>\n",
       "    <tr>\n",
       "      <th>2</th>\n",
       "      <td>0.975018</td>\n",
       "      <td>nosf</td>\n",
       "      <td>mps_bm_dmrg</td>\n",
       "    </tr>\n",
       "    <tr>\n",
       "      <th>3</th>\n",
       "      <td>0.960013</td>\n",
       "      <td>nosf</td>\n",
       "      <td>mps_bm_dmrg</td>\n",
       "    </tr>\n",
       "    <tr>\n",
       "      <th>4</th>\n",
       "      <td>0.947381</td>\n",
       "      <td>nosf</td>\n",
       "      <td>mps_bm_dmrg</td>\n",
       "    </tr>\n",
       "    <tr>\n",
       "      <th>...</th>\n",
       "      <td>...</td>\n",
       "      <td>...</td>\n",
       "      <td>...</td>\n",
       "    </tr>\n",
       "    <tr>\n",
       "      <th>995</th>\n",
       "      <td>4.079609</td>\n",
       "      <td>sf</td>\n",
       "      <td>mps_bm_lsf</td>\n",
       "    </tr>\n",
       "    <tr>\n",
       "      <th>996</th>\n",
       "      <td>4.079469</td>\n",
       "      <td>sf</td>\n",
       "      <td>mps_bm_lsf</td>\n",
       "    </tr>\n",
       "    <tr>\n",
       "      <th>997</th>\n",
       "      <td>4.079329</td>\n",
       "      <td>sf</td>\n",
       "      <td>mps_bm_lsf</td>\n",
       "    </tr>\n",
       "    <tr>\n",
       "      <th>998</th>\n",
       "      <td>4.079189</td>\n",
       "      <td>sf</td>\n",
       "      <td>mps_bm_lsf</td>\n",
       "    </tr>\n",
       "    <tr>\n",
       "      <th>999</th>\n",
       "      <td>4.079049</td>\n",
       "      <td>sf</td>\n",
       "      <td>mps_bm_lsf</td>\n",
       "    </tr>\n",
       "  </tbody>\n",
       "</table>\n",
       "<p>4000 rows × 3 columns</p>\n",
       "</div>"
      ],
      "text/plain": [
       "         loss  type        model\n",
       "0    1.019453  nosf  mps_bm_dmrg\n",
       "1    0.993644  nosf  mps_bm_dmrg\n",
       "2    0.975018  nosf  mps_bm_dmrg\n",
       "3    0.960013  nosf  mps_bm_dmrg\n",
       "4    0.947381  nosf  mps_bm_dmrg\n",
       "..        ...   ...          ...\n",
       "995  4.079609    sf   mps_bm_lsf\n",
       "996  4.079469    sf   mps_bm_lsf\n",
       "997  4.079329    sf   mps_bm_lsf\n",
       "998  4.079189    sf   mps_bm_lsf\n",
       "999  4.079049    sf   mps_bm_lsf\n",
       "\n",
       "[4000 rows x 3 columns]"
      ]
     },
     "execution_count": 10,
     "metadata": {},
     "output_type": "execute_result"
    }
   ],
   "source": [
    "import pandas as pd\n",
    "import seaborn as sns\n",
    "df = pd.DataFrame({\"loss\": torch.stack(mps_bm_dmrg_losses_nosf).tolist(), \"type\": \"nosf\", \"model\": \"mps_bm_dmrg\"})\n",
    "df = pd.concat([df, pd.DataFrame({\"loss\": torch.stack(mps_bm_dmrg_losses_sf).tolist(), \"type\": \"sf\", \"model\": \"mps_bm_dmrg\"})])\n",
    "df = pd.concat([df, pd.DataFrame({\"loss\": torch.stack(mps_bm_lsf_losses_nosf).tolist(), \"type\": \"nosf\", \"model\": \"mps_bm_lsf\"})])\n",
    "df = pd.concat([df, pd.DataFrame({\"loss\": torch.stack(mps_bm_lsf_losses_sf).tolist(), \"type\": \"sf\", \"model\": \"mps_bm_lsf\"})])\n",
    "df "
   ]
  },
  {
   "cell_type": "code",
   "execution_count": 12,
   "id": "d4aa04ca",
   "metadata": {},
   "outputs": [
    {
     "data": {
      "text/plain": [
       "<seaborn.axisgrid.FacetGrid at 0x1675eb0a0>"
      ]
     },
     "execution_count": 12,
     "metadata": {},
     "output_type": "execute_result"
    },
    {
     "data": {
      "image/png": "[encoded data removed]",
      "text/plain": [
       "<Figure size 1079.38x500 with 2 Axes>"
      ]
     },
     "metadata": {},
     "output_type": "display_data"
    }
   ],
   "source": [
    "sns.relplot(data=df, x=df.index, y=\"loss\", kind=\"line\", hue=\"type\", col=\"model\")"
   ]
  },
  {
   "cell_type": "code",
   "execution_count": null,
   "id": "e5e61d3c",
   "metadata": {},
   "outputs": [],
   "source": [
    "df"
   ]
  }
 ],
 "metadata": {
  "kernelspec": {
   "display_name": ".venv",
   "language": "python",
   "name": "python3"
  },
  "language_info": {
   "codemirror_mode": {
    "name": "ipython",
    "version": 3
   },
   "file_extension": ".py",
   "mimetype": "text/x-python",
   "name": "python",
   "nbconvert_exporter": "python",
   "pygments_lexer": "ipython3",
   "version": "3.10.0"
  }
 },
 "nbformat": 4,
 "nbformat_minor": 5
}
