{
 "cells": [
  {
   "cell_type": "code",
   "execution_count": 1,
   "id": "51b1da60",
   "metadata": {},
   "outputs": [
    {
     "name": "stdout",
     "output_type": "stream",
     "text": [
      "Requirement already satisfied: tensorkrowch in /Users/marawangamal/Documents/github/ptn/.venv/lib/python3.10/site-packages (1.1.6)\n",
      "Requirement already satisfied: torch>=1.9 in /Users/marawangamal/Documents/github/ptn/.venv/lib/python3.10/site-packages (from tensorkrowch) (2.8.0)\n",
      "Requirement already satisfied: opt_einsum>=3.0 in /Users/marawangamal/Documents/github/ptn/.venv/lib/python3.10/site-packages (from tensorkrowch) (3.4.0)\n",
      "Requirement already satisfied: filelock in /Users/marawangamal/Documents/github/ptn/.venv/lib/python3.10/site-packages (from torch>=1.9->tensorkrowch) (3.19.1)\n",
      "Requirement already satisfied: typing-extensions>=4.10.0 in /Users/marawangamal/Documents/github/ptn/.venv/lib/python3.10/site-packages (from torch>=1.9->tensorkrowch) (4.15.0)\n",
      "Requirement already satisfied: sympy>=1.13.3 in /Users/marawangamal/Documents/github/ptn/.venv/lib/python3.10/site-packages (from torch>=1.9->tensorkrowch) (1.14.0)\n",
      "Requirement already satisfied: networkx in /Users/marawangamal/Documents/github/ptn/.venv/lib/python3.10/site-packages (from torch>=1.9->tensorkrowch) (3.4.2)\n",
      "Requirement already satisfied: jinja2 in /Users/marawangamal/Documents/github/ptn/.venv/lib/python3.10/site-packages (from torch>=1.9->tensorkrowch) (3.1.6)\n",
      "Requirement already satisfied: fsspec in /Users/marawangamal/Documents/github/ptn/.venv/lib/python3.10/site-packages (from torch>=1.9->tensorkrowch) (2025.9.0)\n",
      "Requirement already satisfied: mpmath<1.4,>=1.1.0 in /Users/marawangamal/Documents/github/ptn/.venv/lib/python3.10/site-packages (from sympy>=1.13.3->torch>=1.9->tensorkrowch) (1.3.0)\n",
      "Requirement already satisfied: MarkupSafe>=2.0 in /Users/marawangamal/Documents/github/ptn/.venv/lib/python3.10/site-packages (from jinja2->torch>=1.9->tensorkrowch) (3.0.3)\n"
     ]
    }
   ],
   "source": [
    "!pip install tensorkrowch\n"
   ]
  },
  {
   "cell_type": "code",
   "execution_count": 33,
   "id": "0608c237",
   "metadata": {},
   "outputs": [
    {
     "data": {
      "text/plain": [
       "tensor([2.4139e+29, 2.4139e+29, 2.4139e+29, 2.4139e+29, 2.4139e+29, 2.4139e+29,\n",
       "        2.4139e+29, 2.4139e+29, 2.4139e+29, 2.4139e+29, 2.4139e+29, 2.4139e+29,\n",
       "        2.4139e+29, 2.4139e+29, 2.4139e+29, 2.4139e+29, 2.4139e+29, 2.4139e+29,\n",
       "        2.4139e+29, 2.4139e+29], grad_fn=<ViewBackward0>)"
      ]
     },
     "execution_count": 33,
     "metadata": {},
     "output_type": "execute_result"
    }
   ],
   "source": [
    "import torch\n",
    "import tensorkrowch as tk\n",
    "\n",
    "\n",
    "torch.set_default_dtype(torch.float64)\n",
    "\n",
    "\n",
    "n_cores = 14*14\n",
    "data = torch.ones(20, n_cores, 2) # batch_size x n_features x feature_size\n",
    "\n",
    "mps = tk.models.MPS(\n",
    "        n_features=n_cores,\n",
    "        phys_dim=2,\n",
    "        bond_dim=2\n",
    ")\n",
    "result = mps(data)\n",
    "result"
   ]
  },
  {
   "cell_type": "code",
   "execution_count": 34,
   "id": "184a908e",
   "metadata": {},
   "outputs": [
    {
     "data": {
      "text/plain": [
       "tensor(3.1051e+49, grad_fn=<SqrtBackward0>)"
      ]
     },
     "execution_count": 34,
     "metadata": {},
     "output_type": "execute_result"
    }
   ],
   "source": [
    "mps.canonicalize()\n",
    "mps.norm()"
   ]
  },
  {
   "cell_type": "code",
   "execution_count": null,
   "id": "1c7c29d1",
   "metadata": {},
   "outputs": [],
   "source": []
  }
 ],
 "metadata": {
  "kernelspec": {
   "display_name": ".venv",
   "language": "python",
   "name": "python3"
  },
  "language_info": {
   "codemirror_mode": {
    "name": "ipython",
    "version": 3
   },
   "file_extension": ".py",
   "mimetype": "text/x-python",
   "name": "python",
   "nbconvert_exporter": "python",
   "pygments_lexer": "ipython3",
   "version": "3.10.0"
  }
 },
 "nbformat": 4,
 "nbformat_minor": 5
}
