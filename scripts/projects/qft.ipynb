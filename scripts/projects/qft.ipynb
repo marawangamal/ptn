{
 "cells": [
  {
   "cell_type": "markdown",
   "id": "bd9bb5d0",
   "metadata": {},
   "source": [
    "## Compressed sensing with QFT\n",
    "\n",
    "**Compressed sensing objective**\n",
    "\n",
    "Given a high dimensional signal $\\mathbf{x} \\in\\mathbb{R}^{D}$ we want to find a vector $\\mathbf{s}^*$ in the set. \n",
    "\n",
    "$$\n",
    "\\argmin_{\\mathbf{s} \\in \\mathbb{R}^{D}}  \\|\\mathbf{s}\\|_1  \\\\\n",
    "\\text{s.t. } C\\mathbf{x} = CF^{-1}\\mathbf{s}\n",
    "$$\n",
    "\n",
    "\n",
    "**Tensorized extension of compressed sensing**\n",
    "\n",
    "Given a high dimensional signal $\\mathbf{x} \\in\\mathbb{R}^{D\\times\\cdots\\times D}$ represented in TT format with ranks $\\{R_i\\}_{i=1}^N$ we want to find a TT-vector $\\mathbf{s}^*$ in the set. \n",
    "\n",
    "$$\n",
    "\\argmin_{\\mathbf{s} \\in \\mathbb{R}^{D}}  \\|\\mathbf{s}\\|_1  \\\\\n",
    "\\text{s.t. } \\mathcal{C}\\mathcal{x} = \\mathcal{C}\\mathcal{F}^{-1}\\mathcal{s}\n",
    "$$\n",
    "\n",
    "where $\\mathcal{C}\\,\\&\\,\\mathcal{F}$ are Matrix Product Operators (MPO).\n"
   ]
  },
  {
   "cell_type": "code",
   "execution_count": null,
   "id": "92f23e41",
   "metadata": {},
   "outputs": [],
   "source": [
    "# Install packages\n",
    "!pip install quimb "
   ]
  },
  {
   "cell_type": "code",
   "execution_count": null,
   "id": "bab1de11",
   "metadata": {},
   "outputs": [
    {
     "name": "stdout",
     "output_type": "stream",
     "text": [
      "s\n",
      " 8 8 8 8 8 8 8 \n",
      "●─●─●─●─●─●─●─●\n",
      "│ │ │ │ │ │ │ │\n",
      "None\n",
      "\n",
      "w_mpo\n",
      "│8│8│8│8│8│8│8│\n",
      "●─●─●─●─●─●─●─●\n",
      "│ │ │ │ │ │ │ │\n",
      "None\n"
     ]
    },
    {
     "name": "stderr",
     "output_type": "stream",
     "text": [
      "/Users/marawangamal/Documents/github/ptn/.venv/lib/python3.10/site-packages/cotengra/hyperoptimizers/hyper.py:55: UserWarning: Couldn't find `optuna`, `cmaes`, or `nevergrad` so will use completely random sampling in place of hyper-optimization. It is recommended to install one of these libraries for higher quality contraction paths.\n",
      "  warnings.warn(\n"
     ]
    }
   ],
   "source": [
    "import quimb as qu\n",
    "import quimb.tensor as qtn\n",
    "\n",
    "# Hyperparameters\n",
    "num_cores, rank, physical_dim, num_steps = 8, 8, 2, 1000\n",
    "\n",
    "# Randomly initialize the sparse tensor\n",
    "s_mps = qtn.MPS_rand_state(L=num_cores, bond_dim=rank, tags=['S'])  # sparse tensor\n",
    "\n",
    "# This will be the combined inverse fourier MPO + sampler MPO\n",
    "w_mpo = qtn.MPO_rand_herm(L=num_cores, bond_dim=rank, tags=['HAM'])  \n",
    "\n",
    "# Target we want to reconstruct\n",
    "x_targ_mps = qtn.MPS_rand_state(L=num_cores, bond_dim=rank, tags=['X'])  # dense tensor\n",
    "\n",
    "print(\"s\")\n",
    "print(s_mps.show())\n",
    "\n",
    "print(\"\\nw_mpo\")\n",
    "print(w_mpo.show())"
   ]
  },
  {
   "cell_type": "code",
   "execution_count": null,
   "id": "374c2982",
   "metadata": {},
   "outputs": [],
   "source": [
    "# Constrained optimization with L1\n",
    "# from scipy.optimize import minimize\n",
    "\n",
    "# # Define the objective function\n",
    "# def loss_fn(s_mps, w_mpo, x_targ_mps, lam=1):\n",
    "#     x_hat_mps = w_mpo.apply(other=s_mps)\n",
    "#     diff = x_hat_mps - x_targ_mps\n",
    "#     return diff.norm() + lam * s_mps.norm()\n",
    "\n",
    "# loss_fn(s_mps, w_mpo, x_targ_mps)\n",
    "\n",
    "# constraints = (\n",
    "#     {\"type\": \"eq\", \"fun\": lambda s_mps_: w_mpo.apply(other=s_mps_) - x_targ_mps},\n",
    "# )\n",
    "# res = minimize(loss_fn, s_mps, constraints=constraints)"
   ]
  },
  {
   "cell_type": "code",
   "execution_count": 33,
   "id": "3b56e9c7",
   "metadata": {},
   "outputs": [],
   "source": [
    "# Define the objective function\n",
    "def loss_fn(s_mps, w_mpo, x_targ_mps, lam=1):\n",
    "    x_hat_mps = w_mpo.apply(other=s_mps)\n",
    "    diff = x_hat_mps - x_targ_mps\n",
    "    return diff.norm() + lam * s_mps.norm()\n",
    "\n",
    "\n",
    "# Define the optimizer\n",
    "tnopt = qtn.TNOptimizer(\n",
    "    # the tensor network we want to optimize\n",
    "    s_mps,\n",
    "    # the functions specfying the loss and normalization\n",
    "    loss_fn=loss_fn,\n",
    "    # norm_fn=norm_fn,\n",
    "    # we specify constants so that the arguments can be converted\n",
    "    # to the  desired autodiff backend automatically\n",
    "    loss_constants={\"w_mpo\": w_mpo, \"x_targ_mps\": x_targ_mps},\n",
    "    # the underlying algorithm to use for the optimization\n",
    "    # 'l-bfgs-b' is the default and often good for fast initial progress\n",
    "    optimizer=\"adam\",\n",
    "    # which gradient computation backend to use\n",
    "    autodiff_backend=\"torch\",\n",
    ")"
   ]
  },
  {
   "cell_type": "code",
   "execution_count": null,
   "id": "255024cb",
   "metadata": {},
   "outputs": [
    {
     "name": "stderr",
     "output_type": "stream",
     "text": [
      "  0%|          | 0/1000 [00:00<?, ?it/s]"
     ]
    },
    {
     "name": "stderr",
     "output_type": "stream",
     "text": [
      "+1.000363682768 [best: +1.000359814891] : : 1001it [00:04, 213.63it/s]                        \n"
     ]
    },
    {
     "name": "stdout",
     "output_type": "stream",
     "text": [
      "Initial loss: 2.00333825261809\n",
      "Final loss: 1.0003636827681783\n"
     ]
    }
   ],
   "source": [
    "# Optimize the tensor network\n",
    "s_mps_opt = tnopt.optimize(num_steps)\n",
    "\n",
    "# Print loss\n",
    "print(f\"Initial loss: {loss_fn(s_mps, w_mpo, x_targ_mps)}\")\n",
    "print(f\"Final loss: {loss_fn(s_mps_opt, w_mpo, x_targ_mps)}\")"
   ]
  },
  {
   "cell_type": "code",
   "execution_count": 50,
   "id": "a9ad5a86",
   "metadata": {},
   "outputs": [],
   "source": [
    "import numpy as np\n",
    "\n",
    "def random_samples_with_amplitudes(mps, num_samples=5):\n",
    "    L = mps.L\n",
    "    d = mps.phys_dim()\n",
    "    results = []\n",
    "\n",
    "    for _ in range(num_samples):\n",
    "        # uniformly random configuration\n",
    "        cfg = np.random.randint(0, d, size=L)\n",
    "        mapping = {mps.site_ind(i): int(cfg[i]) for i in range(L)}\n",
    "\n",
    "        # contract to get amplitude\n",
    "        amp = mps.isel(mapping).contract(output_inds=())\n",
    "\n",
    "        results.append({\n",
    "            'indices': cfg.tolist(),\n",
    "            'amplitude': amp\n",
    "        })\n",
    "\n",
    "    return results\n",
    "\n",
    "\n",
    "# example usage\n",
    "samples_l1 = random_samples_with_amplitudes(s_mps_opt, num_samples=10000)\n"
   ]
  },
  {
   "cell_type": "code",
   "execution_count": 51,
   "id": "49603a12",
   "metadata": {},
   "outputs": [
    {
     "data": {
      "image/png": "[encoded data removed]",
      "text/plain": [
       "<Figure size 640x480 with 1 Axes>"
      ]
     },
     "metadata": {},
     "output_type": "display_data"
    }
   ],
   "source": [
    "import pandas as pd\n",
    "import seaborn as sns\n",
    "import matplotlib.pyplot as plt\n",
    "df = pd.DataFrame(samples_l1)\n",
    "\n",
    "sns.set_theme()\n",
    "\n",
    "sns.histplot(df[\"amplitude\"], bins=100, label=\"L2\")\n",
    "plt.legend()\n",
    "plt.show()"
   ]
  }
 ],
 "metadata": {
  "kernelspec": {
   "display_name": ".venv",
   "language": "python",
   "name": "python3"
  },
  "language_info": {
   "codemirror_mode": {
    "name": "ipython",
    "version": 3
   },
   "file_extension": ".py",
   "mimetype": "text/x-python",
   "name": "python",
   "nbconvert_exporter": "python",
   "pygments_lexer": "ipython3",
   "version": "3.10.0"
  }
 },
 "nbformat": 4,
 "nbformat_minor": 5
}
