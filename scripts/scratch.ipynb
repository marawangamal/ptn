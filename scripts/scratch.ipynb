{
 "cells": [
  {
   "cell_type": "code",
   "execution_count": null,
   "id": "c378afd4",
   "metadata": {},
   "outputs": [],
   "source": [
    "# load mnist data\n",
    "import numpy as np\n",
    "\n",
    "data = np.load(\"data/mnist-rand1k_28_thr50_z/_data.npy\")\n",
    "print(data.shape)\n",
    "\n"
   ]
  }
 ],
 "metadata": {
  "language_info": {
   "name": "python"
  }
 },
 "nbformat": 4,
 "nbformat_minor": 5
}
