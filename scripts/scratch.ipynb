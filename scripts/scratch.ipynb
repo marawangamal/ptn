{
 "cells": [
  {
   "cell_type": "code",
   "execution_count": 2,
   "id": "490befcc",
   "metadata": {},
   "outputs": [],
   "source": [
    "import time\n",
    "import torch\n",
    "\n",
    "def test_latency(fn, n_warmup, n_iters, device, *args, **kwargs):\n",
    "    results = {}\n",
    "    # Warmup\n",
    "    for _ in range(n_warmup):\n",
    "        fn(*args, **kwargs)\n",
    "\n",
    "    if device is not None and device.type == \"cuda\":\n",
    "        torch.cuda.synchronize()\n",
    "        start_time = time.time()\n",
    "        try:\n",
    "            for _ in range(n_iters):\n",
    "                if hasattr(fn, \"train_example\"):\n",
    "                    fn.train_example(*args, **kwargs)\n",
    "                else:\n",
    "                    fn(*args, **kwargs)\n",
    "        except Exception as e:\n",
    "            start_time = float(\"inf\")\n",
    "            print(e)\n",
    "        torch.cuda.synchronize()\n",
    "        end_time = time.time()\n",
    "        results[\"latency\"] = (end_time - start_time) / n_iters  # seconds\n",
    "    else:\n",
    "        start_time = time.time()\n",
    "        for _ in range(n_iters):\n",
    "            if hasattr(fn, \"train_example\"):\n",
    "                fn.train_example(*args, **kwargs)\n",
    "            else:\n",
    "                fn(*args, **kwargs)\n",
    "        end_time = time.time()\n",
    "        results[\"latency\"] = (end_time - start_time) / n_iters  # seconds\n",
    "\n",
    "    return results"
   ]
  },
  {
   "cell_type": "code",
   "execution_count": null,
   "id": "4aeef49f",
   "metadata": {},
   "outputs": [],
   "source": [
    "\n"
   ]
  }
 ],
 "metadata": {
  "kernelspec": {
   "display_name": ".venv",
   "language": "python",
   "name": "python3"
  },
  "language_info": {
   "codemirror_mode": {
    "name": "ipython",
    "version": 3
   },
   "file_extension": ".py",
   "mimetype": "text/x-python",
   "name": "python",
   "nbconvert_exporter": "python",
   "pygments_lexer": "ipython3",
   "version": "3.10.0"
  }
 },
 "nbformat": 4,
 "nbformat_minor": 5
}
