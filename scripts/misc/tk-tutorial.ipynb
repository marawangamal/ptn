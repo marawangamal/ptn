{
 "cells": [
  {
   "cell_type": "code",
   "execution_count": 1,
   "id": "52343a27",
   "metadata": {},
   "outputs": [],
   "source": [
    "import os\n",
    "import torch\n",
    "import torch.nn as nn\n",
    "import torch.optim as optim\n",
    "from torch.utils.data import DataLoader\n",
    "import certifi\n",
    "\n",
    "os.environ[\"SSL_CERT_FILE\"] = certifi.where()\n",
    "\n",
    "import torchvision.transforms as transforms\n",
    "import torchvision.datasets as datasets\n",
    "\n",
    "import matplotlib.pyplot as plt\n",
    "\n",
    "import tensorkrowch as tk"
   ]
  },
  {
   "cell_type": "code",
   "execution_count": null,
   "id": "d3e5603d",
   "metadata": {},
   "outputs": [],
   "source": [
    "mps = tk.TensorNetwork(name='mps')\n",
    "\n",
    "# for i in range(100):\n",
    "#     _ = tk.randn(shape=(2, 5, 2),\n",
    "#                  axes_names=('left', 'input', 'right'),\n",
    "#                  name=f'node_({i})',\n",
    "#                  network=mps)\n",
    "\n",
    "# for i in range(100):\n",
    "#     mps[f'node_({i})']['right'] ^ mps[f'node_({(i + 1) % 100})']['left']"
   ]
  },
  {
   "cell_type": "code",
   "execution_count": 5,
   "id": "4b22adb8",
   "metadata": {},
   "outputs": [
    {
     "data": {
      "text/plain": [
       "torch.Size([2, 5, 2])"
      ]
     },
     "execution_count": 5,
     "metadata": {},
     "output_type": "execute_result"
    }
   ],
   "source": [
    "mps['node_(99)'].size()"
   ]
  },
  {
   "cell_type": "code",
   "execution_count": 20,
   "id": "261191d0",
   "metadata": {},
   "outputs": [
    {
     "data": {
      "text/plain": [
       "(torch.Size([50, 2, 50]),\n",
       " MPS_DMRG(\n",
       "  \tname: mpslayer\n",
       " \tnodes: \n",
       " \t\t[mats_env_node_(0)\n",
       " \t\t mats_env_node_(1)\n",
       " \t\t mats_env_node_(2)\n",
       " \t\t mats_env_node_(3)\n",
       " \t\t left_node\n",
       " \t\t right_node]\n",
       " \tedges:\n",
       " \t\t[mats_env_node_(0)[input] <-> None\n",
       " \t\t mats_env_node_(1)[input] <-> None\n",
       " \t\t mats_env_node_(2)[output] <-> None\n",
       " \t\t mats_env_node_(3)[input] <-> None]))"
      ]
     },
     "execution_count": 20,
     "metadata": {},
     "output_type": "execute_result"
    }
   ],
   "source": [
    "class MPS_DMRG(tk.models.MPSLayer):\n",
    "\n",
    "    def __init__(self, *args, **kwargs):\n",
    "        super().__init__(*args, **kwargs)\n",
    "\n",
    "        self.parameterize(set_param=False, override=True)\n",
    "\n",
    "        self.out_node.get_axis('input').name = 'output'\n",
    "\n",
    "        self.block_position = None\n",
    "        self.block_length = None\n",
    "\n",
    "    @property\n",
    "    def block(self):\n",
    "        if self.block_position is not None:\n",
    "            return self.mats_env[self.block_position]\n",
    "        return None\n",
    "\n",
    "    def merge_block(self, block_position, block_length):\n",
    "        if block_position + block_length > self.n_features:\n",
    "            raise ValueError(\n",
    "                f'Last position of the block ({block_position + block_length}) '\n",
    "                f'exceeds the range of MPS sites ({self.n_features})')\n",
    "        elif block_length < 1:\n",
    "            raise ValueError(\n",
    "                '`block_length` should be greater than or equal to 1')\n",
    "\n",
    "        if self.block_position is not None:\n",
    "            raise ValueError(\n",
    "                'Cannot create block if there is already a merged block')\n",
    "\n",
    "        block_nodes = self.mats_env[block_position:(block_position + block_length)]\n",
    "\n",
    "        block = block_nodes[0]\n",
    "        for node in block_nodes[1:]:\n",
    "            block = tk.contract_between_(block, node)\n",
    "        block = block.parameterize(True)\n",
    "        block.name = 'block'\n",
    "\n",
    "        self.block_position = block_position\n",
    "        self.block_length = block_length\n",
    "        self._mats_env = self._mats_env[:block_position] + [block] + \\\n",
    "            self._mats_env[(block_position + block_length):]\n",
    "\n",
    "    def unmerge_block(self, side='right', rank=None, cum_percentage=None):\n",
    "        block = self.block\n",
    "\n",
    "        block_nodes = []\n",
    "        for i in range(self.block_length - 1):\n",
    "            node1_axes = block.axes[:2]\n",
    "            node2_axes = block.axes[2:]\n",
    "\n",
    "            node, block = tk.split_(block,\n",
    "                                    node1_axes,\n",
    "                                    node2_axes,\n",
    "                                    side=side,\n",
    "                                    rank=rank,\n",
    "                                    cum_percentage=cum_percentage)\n",
    "            block.get_axis('split').name = 'left'\n",
    "            node.get_axis('split').name = 'right'\n",
    "            node.name = f'mats_env_({self.block_position + i})'\n",
    "\n",
    "            block_nodes.append(node)\n",
    "\n",
    "        block.name = f'mats_env_({self.block_position + i + 1})'\n",
    "        block_nodes.append(block)\n",
    "\n",
    "        self._mats_env = self._mats_env[:self.block_position] + block_nodes + \\\n",
    "            self._mats_env[(self.block_position + 1):]\n",
    "\n",
    "        self.block_position = None\n",
    "        self.block_length = None\n",
    "\n",
    "    def contract(self):\n",
    "        result_mats = []\n",
    "        for node in self.mats_env:\n",
    "            while any(['input' in name for name in node.axes_names]):\n",
    "                for axis in node.axes:\n",
    "                    if 'input' in axis.name:\n",
    "                        data_node = node.neighbours(axis)\n",
    "                        node = node @ data_node\n",
    "                        break\n",
    "            result_mats.append(node)\n",
    "\n",
    "        result_mats = [self.left_node] + result_mats + [self.right_node]\n",
    "\n",
    "        result = result_mats[0]\n",
    "        for node in result_mats[1:]:\n",
    "            result @= node\n",
    "\n",
    "        return result\n",
    "\n",
    "# Model hyperparameters\n",
    "input_size = 4\n",
    "device = torch.device('cuda' if torch.cuda.is_available() else 'cpu')\n",
    "embedding_dim = 2\n",
    "output_dim = 1\n",
    "bond_dim = 50\n",
    "init_method = 'unit'\n",
    "block_length = 2\n",
    "cum_percentage = 0.98\n",
    "num_classes = 10\n",
    "# Initialize network\n",
    "model_name = 'mps_dmrg'\n",
    "mps = MPS_DMRG(n_features=input_size,\n",
    "               in_dim=embedding_dim,\n",
    "               out_dim=num_classes,\n",
    "               bond_dim=bond_dim,\n",
    "               boundary='obc',\n",
    "               init_method=init_method,\n",
    "               device=device)\n",
    "\n",
    "# Important to set data nodes before merging nodes\n",
    "# mps.set_data_nodes()\n",
    "\n",
    "mps['mats_env_node_(3)'].size(), mps\n"
   ]
  },
  {
   "cell_type": "code",
   "execution_count": 25,
   "id": "333c227e",
   "metadata": {},
   "outputs": [
    {
     "data": {
      "text/plain": [
       "(torch.Size([50, 2, 50]),\n",
       " MPS_DMRG(\n",
       "  \tname: mpslayer\n",
       " \tnodes: \n",
       " \t\t[mats_env_node_(0)\n",
       " \t\t mats_env_node_(1)\n",
       " \t\t mats_env_node_(2)\n",
       " \t\t mats_env_node_(3)\n",
       " \t\t left_node\n",
       " \t\t right_node]\n",
       " \tedges:\n",
       " \t\t[mats_env_node_(2)[output] <-> None\n",
       " \t\t mats_env_node_(0)[input] <-> None\n",
       " \t\t mats_env_node_(1)[input] <-> None\n",
       " \t\t mats_env_node_(3)[input] <-> None]))"
      ]
     },
     "execution_count": 25,
     "metadata": {},
     "output_type": "execute_result"
    }
   ],
   "source": [
    "# mps.set_data_nodes()\n",
    "mps.unset_data_nodes()\n",
    "mps['mats_env_node_(3)'].size(), mps"
   ]
  },
  {
   "cell_type": "code",
   "execution_count": null,
   "id": "bc6f7323",
   "metadata": {},
   "outputs": [],
   "source": []
  }
 ],
 "metadata": {
  "kernelspec": {
   "display_name": ".venv",
   "language": "python",
   "name": "python3"
  },
  "language_info": {
   "codemirror_mode": {
    "name": "ipython",
    "version": 3
   },
   "file_extension": ".py",
   "mimetype": "text/x-python",
   "name": "python",
   "nbconvert_exporter": "python",
   "pygments_lexer": "ipython3",
   "version": "3.10.0"
  }
 },
 "nbformat": 4,
 "nbformat_minor": 5
}
