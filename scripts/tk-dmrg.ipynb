{
 "cells": [
  {
   "cell_type": "code",
   "execution_count": 60,
   "id": "1ab582eb",
   "metadata": {},
   "outputs": [],
   "source": [
    "import os\n",
    "import torch\n",
    "import torch.nn as nn\n",
    "import torch.optim as optim\n",
    "from torch.utils.data import DataLoader\n",
    "import certifi\n",
    "\n",
    "os.environ[\"SSL_CERT_FILE\"] = certifi.where()\n",
    "\n",
    "import torchvision.transforms as transforms\n",
    "import torchvision.datasets as datasets\n",
    "\n",
    "import matplotlib.pyplot as plt\n",
    "\n",
    "import tensorkrowch as tk\n",
    "device = torch.device('cpu')\n",
    "\n",
    "# set to float64\n",
    "torch.set_default_dtype(torch.float64)\n",
    "\n",
    "# Hyperparameters\n",
    "\n",
    "# Data\n",
    "dataset_name = 'mnist'\n",
    "batch_size = 64\n",
    "image_size = 15\n",
    "input_size = image_size ** 2\n",
    "\n",
    "\n",
    "# # Model\n",
    "# bond_dim = 50\n",
    "# init_method = 'unit'\n",
    "# block_length = 2\n",
    "# in_dim = 2\n",
    "# cum_percentage = 0.98"
   ]
  },
  {
   "cell_type": "code",
   "execution_count": 61,
   "id": "d8b2b805",
   "metadata": {},
   "outputs": [],
   "source": [
    "# Dataset\n",
    "transform = transforms.Compose([transforms.ToTensor(),\n",
    "                                transforms.Resize(image_size, antialias=True),\n",
    "                               ])\n",
    "\n",
    "train_dataset = datasets.MNIST(root='data/',\n",
    "                               train=True,\n",
    "                               transform=transform,\n",
    "                               download=True)\n",
    "test_dataset = datasets.MNIST(root='data/',\n",
    "                              train=False,\n",
    "                              transform=transform,\n",
    "                              download=True)\n",
    "\n",
    "train_loader = DataLoader(dataset=train_dataset,\n",
    "                          batch_size=batch_size,\n",
    "                          shuffle=True)\n",
    "test_loader = DataLoader(dataset=test_dataset,\n",
    "                         batch_size=batch_size,\n",
    "                         shuffle=True)"
   ]
  },
  {
   "cell_type": "code",
   "execution_count": 62,
   "id": "f63f7f4c",
   "metadata": {},
   "outputs": [],
   "source": [
    "class MPS_DMRG(tk.models.MPSLayer):\n",
    "\n",
    "    def __init__(self, *args, **kwargs):\n",
    "        super().__init__(*args, **kwargs)\n",
    "\n",
    "        self.parameterize(set_param=False, override=True)\n",
    "\n",
    "        self.out_node.get_axis('input').name = 'output'\n",
    "\n",
    "        self.block_position = None\n",
    "        self.block_length = None\n",
    "\n",
    "    @property\n",
    "    def block(self):\n",
    "        if self.block_position is not None:\n",
    "            return self.mats_env[self.block_position]\n",
    "        return None\n",
    "\n",
    "    def merge_block(self, block_position, block_length):\n",
    "        if block_position + block_length > self.n_features:\n",
    "            raise ValueError(\n",
    "                f'Last position of the block ({block_position + block_length}) '\n",
    "                f'exceeds the range of MPS sites ({self.n_features})')\n",
    "        elif block_length < 1:\n",
    "            raise ValueError(\n",
    "                '`block_length` should be greater than or equal to 1')\n",
    "\n",
    "        if self.block_position is not None:\n",
    "            raise ValueError(\n",
    "                'Cannot create block if there is already a merged block')\n",
    "\n",
    "        block_nodes = self.mats_env[block_position:(block_position + block_length)]\n",
    "\n",
    "        block = block_nodes[0]\n",
    "        for node in block_nodes[1:]:\n",
    "            block = tk.contract_between_(block, node)\n",
    "        block = block.parameterize(True)\n",
    "        block.name = 'block'\n",
    "\n",
    "        self.block_position = block_position\n",
    "        self.block_length = block_length\n",
    "        self._mats_env = self._mats_env[:block_position] + [block] + \\\n",
    "            self._mats_env[(block_position + block_length):]\n",
    "\n",
    "    def unmerge_block(self, side='right', rank=None, cum_percentage=None):\n",
    "        block = self.block\n",
    "\n",
    "        block_nodes = []\n",
    "        for i in range(self.block_length - 1):\n",
    "            node1_axes = block.axes[:2]\n",
    "            node2_axes = block.axes[2:]\n",
    "\n",
    "            node, block = tk.split_(block,\n",
    "                                    node1_axes,\n",
    "                                    node2_axes,\n",
    "                                    side=side,\n",
    "                                    rank=rank,\n",
    "                                    cum_percentage=cum_percentage)\n",
    "            block.get_axis('split').name = 'left'\n",
    "            node.get_axis('split').name = 'right'\n",
    "            node.name = f'mats_env_({self.block_position + i})'\n",
    "\n",
    "            block_nodes.append(node)\n",
    "\n",
    "        block.name = f'mats_env_({self.block_position + i + 1})'\n",
    "        block_nodes.append(block)\n",
    "\n",
    "        self._mats_env = self._mats_env[:self.block_position] + block_nodes + \\\n",
    "            self._mats_env[(self.block_position + 1):]\n",
    "\n",
    "        self.block_position = None\n",
    "        self.block_length = None\n",
    "\n",
    "    def contract(self):\n",
    "        result_mats = []\n",
    "        for node in self.mats_env:\n",
    "            while any(['input' in name for name in node.axes_names]):\n",
    "                for axis in node.axes:\n",
    "                    if 'input' in axis.name:\n",
    "                        data_node = node.neighbours(axis)\n",
    "                        node = node @ data_node\n",
    "                        break\n",
    "            result_mats.append(node)\n",
    "\n",
    "        result_mats = [self.left_node] + result_mats + [self.right_node]\n",
    "\n",
    "        result = result_mats[0]\n",
    "        for node in result_mats[1:]:\n",
    "            result @= node\n",
    "\n",
    "        return result\n",
    "\n",
    "# Model hyperparameters\n",
    "embedding_dim = 2\n",
    "output_dim = 1\n",
    "bond_dim = 50\n",
    "init_method = 'unit'\n",
    "block_length = 2\n",
    "cum_percentage = 0.98\n",
    "num_classes = 10\n",
    "# Initialize network\n",
    "model_name = 'mps_dmrg'\n",
    "mps = MPS_DMRG(n_features=input_size,\n",
    "               in_dim=embedding_dim,\n",
    "               out_dim=num_classes,\n",
    "               bond_dim=bond_dim,\n",
    "               boundary='obc',\n",
    "               init_method=init_method,\n",
    "               device=device)\n",
    "\n",
    "# Important to set data nodes before merging nodes\n",
    "mps.set_data_nodes()\n",
    "\n",
    "def embedding(x):\n",
    "    x = tk.embeddings.unit(x, dim=embedding_dim)\n",
    "    return x\n",
    "\n",
    "# def embedding(x):\n",
    "#     x_bool = x >= 0.5\n",
    "#     x_ohot = torch.nn.functional.one_hot(x_bool.long(), num_classes=2)\n",
    "#     return x_ohot.to(torch.get_default_dtype())\n",
    "\n",
    "# mps.norm()"
   ]
  },
  {
   "cell_type": "code",
   "execution_count": 63,
   "id": "c827bbb5",
   "metadata": {},
   "outputs": [],
   "source": [
    "# Hyperparameters\n",
    "learning_rate = 1e-3\n",
    "weight_decay = 1e-8\n",
    "num_epochs = 100\n",
    "move_block_epochs = 100\n",
    "\n",
    "# Loss and optimizer\n",
    "criterion = nn.CrossEntropyLoss()\n",
    "\n",
    "# Check accuracy on training & test to see how good our model is\n",
    "def check_accuracy(loader, model):\n",
    "    num_correct = 0\n",
    "    num_samples = 0\n",
    "    model.eval()\n",
    "\n",
    "    with torch.no_grad():\n",
    "        for x, y in loader:\n",
    "            x = x.to(device)\n",
    "            y = y.to(device)\n",
    "            x = x.reshape(x.shape[0], -1)\n",
    "\n",
    "            scores = model(embedding(x))\n",
    "            _, predictions = scores.max(1)\n",
    "            num_correct += (predictions == y).sum()\n",
    "            num_samples += predictions.size(0)\n",
    "\n",
    "        accuracy = float(num_correct) / float(num_samples) * 100\n",
    "    model.train()\n",
    "    return accuracy"
   ]
  },
  {
   "cell_type": "code",
   "execution_count": null,
   "id": "6e59c1fc",
   "metadata": {},
   "outputs": [
    {
     "name": "stderr",
     "output_type": "stream",
     "text": [
      "/Users/marawangamal/Documents/github/ptn/.venv/lib/python3.10/site-packages/tensorkrowch/components.py:1506: UserWarning: `tensor` is being cropped to fit the shape of node \"stack_data_memory\" at non-batch edges\n",
      "  warnings.warn(f'`tensor` is being cropped to fit the shape of '\n",
      "/Users/marawangamal/Documents/github/ptn/.venv/lib/python3.10/site-packages/tensorkrowch/components.py:1348: UserWarning: Using a non-tuple sequence for multidimensional indexing is deprecated and will be changed in pytorch 2.9; use x[tuple(seq)] instead of x[seq]. In pytorch 2.9 this will be interpreted as tensor index, x[torch.tensor(seq)], which will result either in an error or a different result (Triggered internally at /Users/runner/work/pytorch/pytorch/pytorch/torch/csrc/autograd/python_variable_indexing.cpp:312.)\n",
      "  return tensor[index]\n",
      "Epoch 1: 100%|██████████| 938/938 [03:17<00:00,  4.75it/s, loss=2.29]\n"
     ]
    },
    {
     "name": "stdout",
     "output_type": "stream",
     "text": [
      "* Epoch 1   (block_position=9, direction=1)=> Train. Acc.: 11.83, Test Acc.: 11.31\n"
     ]
    },
    {
     "name": "stderr",
     "output_type": "stream",
     "text": [
      "Epoch 2: 100%|██████████| 938/938 [03:27<00:00,  4.52it/s, loss=2.28]\n"
     ]
    },
    {
     "name": "stdout",
     "output_type": "stream",
     "text": [
      "* Epoch 2   (block_position=18, direction=1)=> Train. Acc.: 11.99, Test Acc.: 11.83\n"
     ]
    },
    {
     "name": "stderr",
     "output_type": "stream",
     "text": [
      "Epoch 3: 100%|██████████| 938/938 [03:15<00:00,  4.80it/s, loss=2.31]\n"
     ]
    },
    {
     "name": "stdout",
     "output_type": "stream",
     "text": [
      "* Epoch 3   (block_position=27, direction=1)=> Train. Acc.: 12.41, Test Acc.: 12.29\n"
     ]
    },
    {
     "name": "stderr",
     "output_type": "stream",
     "text": [
      "Epoch 4: 100%|██████████| 938/938 [03:06<00:00,  5.03it/s, loss=2.34]\n"
     ]
    },
    {
     "name": "stdout",
     "output_type": "stream",
     "text": [
      "* Epoch 4   (block_position=36, direction=1)=> Train. Acc.: 12.79, Test Acc.: 11.96\n"
     ]
    },
    {
     "name": "stderr",
     "output_type": "stream",
     "text": [
      "Epoch 5: 100%|██████████| 938/938 [03:13<00:00,  4.86it/s, loss=2.28]\n"
     ]
    },
    {
     "name": "stdout",
     "output_type": "stream",
     "text": [
      "* Epoch 5   (block_position=45, direction=1)=> Train. Acc.: 14.59, Test Acc.: 13.92\n"
     ]
    },
    {
     "name": "stderr",
     "output_type": "stream",
     "text": [
      "Epoch 6: 100%|██████████| 938/938 [03:01<00:00,  5.17it/s, loss=2.26]\n"
     ]
    },
    {
     "name": "stdout",
     "output_type": "stream",
     "text": [
      "* Epoch 6   (block_position=54, direction=1)=> Train. Acc.: 17.15, Test Acc.: 16.06\n"
     ]
    },
    {
     "name": "stderr",
     "output_type": "stream",
     "text": [
      "Epoch 7: 100%|██████████| 938/938 [02:46<00:00,  5.62it/s, loss=2.21]\n"
     ]
    },
    {
     "name": "stdout",
     "output_type": "stream",
     "text": [
      "* Epoch 7   (block_position=63, direction=1)=> Train. Acc.: 18.09, Test Acc.: 16.77\n"
     ]
    },
    {
     "name": "stderr",
     "output_type": "stream",
     "text": [
      "Epoch 8: 100%|██████████| 938/938 [02:53<00:00,  5.42it/s, loss=2.22]\n"
     ]
    },
    {
     "name": "stdout",
     "output_type": "stream",
     "text": [
      "* Epoch 8   (block_position=72, direction=1)=> Train. Acc.: 20.85, Test Acc.: 19.03\n"
     ]
    },
    {
     "name": "stderr",
     "output_type": "stream",
     "text": [
      "Epoch 9: 100%|██████████| 938/938 [03:01<00:00,  5.16it/s, loss=2.15]\n"
     ]
    },
    {
     "name": "stdout",
     "output_type": "stream",
     "text": [
      "* Epoch 9   (block_position=81, direction=1)=> Train. Acc.: 22.78, Test Acc.: 20.51\n"
     ]
    },
    {
     "name": "stderr",
     "output_type": "stream",
     "text": [
      "Epoch 10: 100%|██████████| 938/938 [02:48<00:00,  5.56it/s, loss=2.09]\n"
     ]
    },
    {
     "name": "stdout",
     "output_type": "stream",
     "text": [
      "* Epoch 10  (block_position=90, direction=1)=> Train. Acc.: 24.74, Test Acc.: 21.43\n"
     ]
    },
    {
     "name": "stderr",
     "output_type": "stream",
     "text": [
      "Epoch 11: 100%|██████████| 938/938 [02:49<00:00,  5.52it/s, loss=1.93]\n"
     ]
    },
    {
     "name": "stdout",
     "output_type": "stream",
     "text": [
      "* Epoch 11  (block_position=99, direction=1)=> Train. Acc.: 27.34, Test Acc.: 23.87\n"
     ]
    },
    {
     "name": "stderr",
     "output_type": "stream",
     "text": [
      "Epoch 12: 100%|██████████| 938/938 [02:46<00:00,  5.62it/s, loss=2.13]\n"
     ]
    },
    {
     "name": "stdout",
     "output_type": "stream",
     "text": [
      "* Epoch 12  (block_position=108, direction=1)=> Train. Acc.: 29.07, Test Acc.: 24.83\n"
     ]
    },
    {
     "name": "stderr",
     "output_type": "stream",
     "text": [
      "Epoch 13: 100%|██████████| 938/938 [02:42<00:00,  5.78it/s, loss=1.94]\n"
     ]
    },
    {
     "name": "stdout",
     "output_type": "stream",
     "text": [
      "* Epoch 13  (block_position=117, direction=1)=> Train. Acc.: 37.06, Test Acc.: 32.27\n"
     ]
    },
    {
     "name": "stderr",
     "output_type": "stream",
     "text": [
      "Epoch 14: 100%|██████████| 938/938 [02:39<00:00,  5.87it/s, loss=1.72]\n"
     ]
    },
    {
     "name": "stdout",
     "output_type": "stream",
     "text": [
      "* Epoch 14  (block_position=126, direction=1)=> Train. Acc.: 39.34, Test Acc.: 34.37\n"
     ]
    },
    {
     "name": "stderr",
     "output_type": "stream",
     "text": [
      "Epoch 15: 100%|██████████| 938/938 [02:31<00:00,  6.20it/s, loss=1.45]\n"
     ]
    },
    {
     "name": "stdout",
     "output_type": "stream",
     "text": [
      "* Epoch 15  (block_position=135, direction=1)=> Train. Acc.: 42.36, Test Acc.: 37.03\n"
     ]
    },
    {
     "name": "stderr",
     "output_type": "stream",
     "text": [
      "Epoch 16: 100%|██████████| 938/938 [02:30<00:00,  6.24it/s, loss=1.83]\n"
     ]
    },
    {
     "name": "stdout",
     "output_type": "stream",
     "text": [
      "* Epoch 16  (block_position=144, direction=1)=> Train. Acc.: 44.41, Test Acc.: 38.53\n"
     ]
    },
    {
     "name": "stderr",
     "output_type": "stream",
     "text": [
      "Epoch 17: 100%|██████████| 938/938 [02:31<00:00,  6.21it/s, loss=1.79]\n"
     ]
    },
    {
     "name": "stdout",
     "output_type": "stream",
     "text": [
      "* Epoch 17  (block_position=153, direction=1)=> Train. Acc.: 45.55, Test Acc.: 39.26\n"
     ]
    },
    {
     "name": "stderr",
     "output_type": "stream",
     "text": [
      "Epoch 18: 100%|██████████| 938/938 [02:26<00:00,  6.42it/s, loss=1.32]\n"
     ]
    },
    {
     "name": "stdout",
     "output_type": "stream",
     "text": [
      "* Epoch 18  (block_position=162, direction=1)=> Train. Acc.: 47.09, Test Acc.: 40.54\n"
     ]
    },
    {
     "name": "stderr",
     "output_type": "stream",
     "text": [
      "Epoch 19: 100%|██████████| 938/938 [02:21<00:00,  6.62it/s, loss=1.46]\n"
     ]
    },
    {
     "name": "stdout",
     "output_type": "stream",
     "text": [
      "* Epoch 19  (block_position=171, direction=1)=> Train. Acc.: 47.43, Test Acc.: 40.93\n"
     ]
    },
    {
     "name": "stderr",
     "output_type": "stream",
     "text": [
      "Epoch 20: 100%|██████████| 938/938 [02:17<00:00,  6.82it/s, loss=1.28]\n"
     ]
    },
    {
     "name": "stdout",
     "output_type": "stream",
     "text": [
      "* Epoch 20  (block_position=180, direction=1)=> Train. Acc.: 47.73, Test Acc.: 40.75\n"
     ]
    },
    {
     "name": "stderr",
     "output_type": "stream",
     "text": [
      "Epoch 21: 100%|██████████| 938/938 [02:16<00:00,  6.85it/s, loss=1.73]\n"
     ]
    },
    {
     "name": "stdout",
     "output_type": "stream",
     "text": [
      "* Epoch 21  (block_position=189, direction=1)=> Train. Acc.: 47.67, Test Acc.: 40.95\n"
     ]
    },
    {
     "name": "stderr",
     "output_type": "stream",
     "text": [
      "Epoch 22: 100%|██████████| 938/938 [02:15<00:00,  6.94it/s, loss=1.32]\n"
     ]
    },
    {
     "name": "stdout",
     "output_type": "stream",
     "text": [
      "* Epoch 22  (block_position=198, direction=1)=> Train. Acc.: 47.65, Test Acc.: 40.93\n"
     ]
    },
    {
     "name": "stderr",
     "output_type": "stream",
     "text": [
      "Epoch 23: 100%|██████████| 938/938 [02:13<00:00,  7.04it/s, loss=1.33]\n"
     ]
    },
    {
     "name": "stdout",
     "output_type": "stream",
     "text": [
      "* Epoch 23  (block_position=207, direction=1)=> Train. Acc.: 47.88, Test Acc.: 40.64\n"
     ]
    },
    {
     "name": "stderr",
     "output_type": "stream",
     "text": [
      "Epoch 24: 100%|██████████| 938/938 [02:06<00:00,  7.42it/s, loss=1.78]\n"
     ]
    },
    {
     "name": "stdout",
     "output_type": "stream",
     "text": [
      "* Epoch 24  (block_position=216, direction=1)=> Train. Acc.: 47.91, Test Acc.: 40.80\n"
     ]
    },
    {
     "name": "stderr",
     "output_type": "stream",
     "text": [
      "Epoch 25: 100%|██████████| 938/938 [01:53<00:00,  8.29it/s, loss=1.7] \n"
     ]
    },
    {
     "name": "stdout",
     "output_type": "stream",
     "text": [
      "* Epoch 25  (block_position=221, direction=-1)=> Train. Acc.: 47.92, Test Acc.: 41.19\n"
     ]
    },
    {
     "name": "stderr",
     "output_type": "stream",
     "text": [
      "Epoch 26: 100%|██████████| 938/938 [01:48<00:00,  8.65it/s, loss=1.73]\n"
     ]
    },
    {
     "name": "stdout",
     "output_type": "stream",
     "text": [
      "* Epoch 26  (block_position=212, direction=-1)=> Train. Acc.: 47.65, Test Acc.: 40.86\n"
     ]
    },
    {
     "name": "stderr",
     "output_type": "stream",
     "text": [
      "Epoch 27: 100%|██████████| 938/938 [01:51<00:00,  8.43it/s, loss=1.38]\n"
     ]
    },
    {
     "name": "stdout",
     "output_type": "stream",
     "text": [
      "* Epoch 27  (block_position=203, direction=-1)=> Train. Acc.: 47.80, Test Acc.: 40.75\n"
     ]
    },
    {
     "name": "stderr",
     "output_type": "stream",
     "text": [
      "Epoch 28: 100%|██████████| 938/938 [01:53<00:00,  8.25it/s, loss=2.02] \n"
     ]
    },
    {
     "name": "stdout",
     "output_type": "stream",
     "text": [
      "* Epoch 28  (block_position=194, direction=-1)=> Train. Acc.: 48.16, Test Acc.: 41.28\n"
     ]
    },
    {
     "name": "stderr",
     "output_type": "stream",
     "text": [
      "Epoch 29: 100%|██████████| 938/938 [02:07<00:00,  7.37it/s, loss=1.62]\n"
     ]
    },
    {
     "name": "stdout",
     "output_type": "stream",
     "text": [
      "* Epoch 29  (block_position=185, direction=-1)=> Train. Acc.: 47.98, Test Acc.: 40.90\n"
     ]
    },
    {
     "name": "stderr",
     "output_type": "stream",
     "text": [
      "Epoch 30: 100%|██████████| 938/938 [02:19<00:00,  6.74it/s, loss=1.68]\n"
     ]
    },
    {
     "name": "stdout",
     "output_type": "stream",
     "text": [
      "* Epoch 30  (block_position=176, direction=-1)=> Train. Acc.: 48.17, Test Acc.: 41.01\n"
     ]
    },
    {
     "name": "stderr",
     "output_type": "stream",
     "text": [
      "Epoch 31: 100%|██████████| 938/938 [02:07<00:00,  7.33it/s, loss=1.5] \n"
     ]
    },
    {
     "name": "stdout",
     "output_type": "stream",
     "text": [
      "* Epoch 31  (block_position=167, direction=-1)=> Train. Acc.: 48.78, Test Acc.: 40.92\n"
     ]
    },
    {
     "name": "stderr",
     "output_type": "stream",
     "text": [
      "Epoch 32: 100%|██████████| 938/938 [02:23<00:00,  6.52it/s, loss=1.49]\n"
     ]
    },
    {
     "name": "stdout",
     "output_type": "stream",
     "text": [
      "* Epoch 32  (block_position=158, direction=-1)=> Train. Acc.: 49.01, Test Acc.: 40.88\n"
     ]
    },
    {
     "name": "stderr",
     "output_type": "stream",
     "text": [
      "Epoch 33: 100%|██████████| 938/938 [02:26<00:00,  6.39it/s, loss=1.47]\n"
     ]
    },
    {
     "name": "stdout",
     "output_type": "stream",
     "text": [
      "* Epoch 33  (block_position=149, direction=-1)=> Train. Acc.: 49.68, Test Acc.: 41.32\n"
     ]
    },
    {
     "name": "stderr",
     "output_type": "stream",
     "text": [
      "Epoch 34: 100%|██████████| 938/938 [02:31<00:00,  6.20it/s, loss=1.35]\n"
     ]
    },
    {
     "name": "stdout",
     "output_type": "stream",
     "text": [
      "* Epoch 34  (block_position=140, direction=-1)=> Train. Acc.: 50.09, Test Acc.: 41.11\n"
     ]
    },
    {
     "name": "stderr",
     "output_type": "stream",
     "text": [
      "Epoch 35: 100%|██████████| 938/938 [02:36<00:00,  5.98it/s, loss=1.45]\n"
     ]
    },
    {
     "name": "stdout",
     "output_type": "stream",
     "text": [
      "* Epoch 35  (block_position=131, direction=-1)=> Train. Acc.: 50.81, Test Acc.: 41.41\n"
     ]
    },
    {
     "name": "stderr",
     "output_type": "stream",
     "text": [
      "Epoch 36: 100%|██████████| 938/938 [02:38<00:00,  5.92it/s, loss=1.58]\n"
     ]
    },
    {
     "name": "stdout",
     "output_type": "stream",
     "text": [
      "* Epoch 36  (block_position=122, direction=-1)=> Train. Acc.: 52.07, Test Acc.: 41.96\n"
     ]
    },
    {
     "name": "stderr",
     "output_type": "stream",
     "text": [
      "Epoch 37: 100%|██████████| 938/938 [02:43<00:00,  5.75it/s, loss=1.7] \n"
     ]
    },
    {
     "name": "stdout",
     "output_type": "stream",
     "text": [
      "* Epoch 37  (block_position=113, direction=-1)=> Train. Acc.: 53.47, Test Acc.: 43.17\n"
     ]
    },
    {
     "name": "stderr",
     "output_type": "stream",
     "text": [
      "Epoch 38: 100%|██████████| 938/938 [02:47<00:00,  5.61it/s, loss=1.3]  \n"
     ]
    },
    {
     "name": "stdout",
     "output_type": "stream",
     "text": [
      "* Epoch 38  (block_position=104, direction=-1)=> Train. Acc.: 58.95, Test Acc.: 48.38\n"
     ]
    },
    {
     "name": "stderr",
     "output_type": "stream",
     "text": [
      "Epoch 39: 100%|██████████| 938/938 [02:46<00:00,  5.64it/s, loss=1.03] \n"
     ]
    },
    {
     "name": "stdout",
     "output_type": "stream",
     "text": [
      "* Epoch 39  (block_position=95, direction=-1)=> Train. Acc.: 61.00, Test Acc.: 50.63\n"
     ]
    },
    {
     "name": "stderr",
     "output_type": "stream",
     "text": [
      "Epoch 40: 100%|██████████| 938/938 [02:45<00:00,  5.67it/s, loss=0.893]\n"
     ]
    },
    {
     "name": "stdout",
     "output_type": "stream",
     "text": [
      "* Epoch 40  (block_position=86, direction=-1)=> Train. Acc.: 62.89, Test Acc.: 52.28\n"
     ]
    },
    {
     "name": "stderr",
     "output_type": "stream",
     "text": [
      "Epoch 41: 100%|██████████| 938/938 [02:51<00:00,  5.46it/s, loss=1.25] \n"
     ]
    },
    {
     "name": "stdout",
     "output_type": "stream",
     "text": [
      "* Epoch 41  (block_position=77, direction=-1)=> Train. Acc.: 65.61, Test Acc.: 55.07\n"
     ]
    },
    {
     "name": "stderr",
     "output_type": "stream",
     "text": [
      "Epoch 42: 100%|██████████| 938/938 [02:55<00:00,  5.34it/s, loss=1.37] \n"
     ]
    },
    {
     "name": "stdout",
     "output_type": "stream",
     "text": [
      "* Epoch 42  (block_position=68, direction=-1)=> Train. Acc.: 67.15, Test Acc.: 56.84\n"
     ]
    },
    {
     "name": "stderr",
     "output_type": "stream",
     "text": [
      "Epoch 43: 100%|██████████| 938/938 [03:01<00:00,  5.17it/s, loss=0.789]\n"
     ]
    },
    {
     "name": "stdout",
     "output_type": "stream",
     "text": [
      "* Epoch 43  (block_position=59, direction=-1)=> Train. Acc.: 68.50, Test Acc.: 58.19\n"
     ]
    },
    {
     "name": "stderr",
     "output_type": "stream",
     "text": [
      "Epoch 44: 100%|██████████| 938/938 [03:02<00:00,  5.15it/s, loss=1.08] \n"
     ]
    },
    {
     "name": "stdout",
     "output_type": "stream",
     "text": [
      "* Epoch 44  (block_position=50, direction=-1)=> Train. Acc.: 68.68, Test Acc.: 58.54\n"
     ]
    },
    {
     "name": "stderr",
     "output_type": "stream",
     "text": [
      "Epoch 45: 100%|██████████| 938/938 [03:12<00:00,  4.89it/s, loss=0.911]\n"
     ]
    },
    {
     "name": "stdout",
     "output_type": "stream",
     "text": [
      "* Epoch 45  (block_position=41, direction=-1)=> Train. Acc.: 69.30, Test Acc.: 59.21\n"
     ]
    },
    {
     "name": "stderr",
     "output_type": "stream",
     "text": [
      "Epoch 46: 100%|██████████| 938/938 [03:11<00:00,  4.90it/s, loss=1.46] \n"
     ]
    },
    {
     "name": "stdout",
     "output_type": "stream",
     "text": [
      "* Epoch 46  (block_position=32, direction=-1)=> Train. Acc.: 69.43, Test Acc.: 58.79\n"
     ]
    },
    {
     "name": "stderr",
     "output_type": "stream",
     "text": [
      "Epoch 47: 100%|██████████| 938/938 [03:17<00:00,  4.75it/s, loss=0.877]\n"
     ]
    },
    {
     "name": "stdout",
     "output_type": "stream",
     "text": [
      "* Epoch 47  (block_position=23, direction=-1)=> Train. Acc.: 69.29, Test Acc.: 58.96\n"
     ]
    },
    {
     "name": "stderr",
     "output_type": "stream",
     "text": [
      "Epoch 48: 100%|██████████| 938/938 [03:10<00:00,  4.92it/s, loss=1.03] \n"
     ]
    },
    {
     "name": "stdout",
     "output_type": "stream",
     "text": [
      "* Epoch 48  (block_position=14, direction=-1)=> Train. Acc.: 69.34, Test Acc.: 58.73\n"
     ]
    },
    {
     "name": "stderr",
     "output_type": "stream",
     "text": [
      "Epoch 49:  95%|█████████▌| 895/938 [03:05<00:09,  4.70it/s, loss=0.769]"
     ]
    }
   ],
   "source": [
    "from tqdm import tqdm\n",
    "\n",
    "# Train network\n",
    "block_position = 0\n",
    "direction = 1\n",
    "mps.merge_block(block_position, block_length)\n",
    "mps.trace(torch.zeros(1, input_size, embedding_dim, device=device))\n",
    "optimizer = optim.Adam(mps.parameters(),\n",
    "                       lr=learning_rate,\n",
    "                       weight_decay=weight_decay)\n",
    "\n",
    "for epoch in range(num_epochs):\n",
    "    pbar = tqdm(train_loader, total=len(train_loader), desc=f'Epoch {epoch + 1}')\n",
    "    for batch_idx, (data, targets) in enumerate(pbar):\n",
    "        # Get data to cuda if possible\n",
    "        data = data.to(device)\n",
    "        targets = targets.to(device)\n",
    "\n",
    "        # Get to correct shape\n",
    "        data = data.reshape(data.shape[0], -1)\n",
    "\n",
    "        # Forward\n",
    "        scores = mps(embedding(data))\n",
    "        loss = criterion(scores, targets)\n",
    "\n",
    "        # # Forward\n",
    "        # p = mps(embedding(data))\n",
    "        # log_z = mps.norm(log_scale=True)\n",
    "        # # loss = (log_z - p.log()).sum()\n",
    "        # loss  =\n",
    "\n",
    "        # Backward\n",
    "        optimizer.zero_grad()\n",
    "        loss.backward()\n",
    "\n",
    "        pbar.set_postfix(loss=loss.item())\n",
    "\n",
    "        # Gradient descent\n",
    "        optimizer.step()\n",
    "\n",
    "        if (batch_idx + 1) % move_block_epochs == 0:\n",
    "            if block_position + direction + block_length > mps.n_features:\n",
    "                direction *= -1\n",
    "            if block_position + direction < 0:\n",
    "                direction *= -1\n",
    "            if block_length == mps.n_features:\n",
    "                direction = 0\n",
    "\n",
    "            if direction >= 0:\n",
    "                mps.unmerge_block(side='left',\n",
    "                                  rank=bond_dim,\n",
    "                                  cum_percentage=cum_percentage)\n",
    "            else:\n",
    "                mps.unmerge_block(side='right',\n",
    "                                  rank=bond_dim,\n",
    "                                  cum_percentage=cum_percentage)\n",
    "\n",
    "            block_position += direction\n",
    "            mps.merge_block(block_position, block_length)\n",
    "            mps.trace(torch.zeros(1, input_size, embedding_dim, device=device))\n",
    "            optimizer = optim.Adam(mps.parameters(),\n",
    "                                   lr=learning_rate,\n",
    "                                   weight_decay=weight_decay)\n",
    "\n",
    "    train_acc = check_accuracy(train_loader, mps)\n",
    "    test_acc = check_accuracy(test_loader, mps)\n",
    "\n",
    "    print(f'* Epoch {epoch + 1:<3} ({block_position=}, {direction=})=>'\n",
    "          f' Train. Acc.: {train_acc:.2f},'\n",
    "          f' Test Acc.: {test_acc:.2f}')\n",
    "\n",
    "# Reset before saving the model\n",
    "mps.reset()\n",
    "torch.save(mps.state_dict(), f'models/{model_name}_{dataset_name}.pt')"
   ]
  },
  {
   "cell_type": "code",
   "execution_count": 48,
   "id": "83835180",
   "metadata": {},
   "outputs": [],
   "source": [
    "(data, targets)  = next((iter(train_loader)))"
   ]
  },
  {
   "cell_type": "code",
   "execution_count": 49,
   "id": "3f5c64f9",
   "metadata": {},
   "outputs": [
    {
     "data": {
      "text/plain": [
       "tensor(24)"
      ]
     },
     "execution_count": 49,
     "metadata": {},
     "output_type": "execute_result"
    }
   ],
   "source": [
    "data = data.to(device)\n",
    "data = data.reshape(data.shape[0], -1)\n",
    "p = mps(embedding(data))\n",
    "torch.isnan(p.log()).sum()"
   ]
  },
  {
   "cell_type": "code",
   "execution_count": null,
   "id": "e4df3f5d",
   "metadata": {},
   "outputs": [
    {
     "ename": "IndexError",
     "evalue": "Node \"mats_env_node_(112)\" has no axis with name \"input\"",
     "output_type": "error",
     "traceback": [
      "\u001b[0;31m---------------------------------------------------------------------------\u001b[0m",
      "\u001b[0;31mIndexError\u001b[0m                                Traceback (most recent call last)",
      "Cell \u001b[0;32mIn[54], line 1\u001b[0m\n\u001b[0;32m----> 1\u001b[0m \u001b[43mmps\u001b[49m\u001b[38;5;241;43m.\u001b[39;49m\u001b[43mnorm\u001b[49m\u001b[43m(\u001b[49m\u001b[43m)\u001b[49m\n",
      "File \u001b[0;32m~/Documents/github/ptn/.venv/lib/python3.10/site-packages/tensorkrowch/models/mps.py:1409\u001b[0m, in \u001b[0;36mMPS.norm\u001b[0;34m(self, log_scale)\u001b[0m\n\u001b[1;32m   1407\u001b[0m create_copies \u001b[38;5;241m=\u001b[39m []\n\u001b[1;32m   1408\u001b[0m \u001b[38;5;28;01mfor\u001b[39;00m node \u001b[38;5;129;01min\u001b[39;00m all_nodes:\n\u001b[0;32m-> 1409\u001b[0m     neighbour \u001b[38;5;241m=\u001b[39m \u001b[43mnode\u001b[49m\u001b[38;5;241;43m.\u001b[39;49m\u001b[43mneighbours\u001b[49m\u001b[43m(\u001b[49m\u001b[38;5;124;43m'\u001b[39;49m\u001b[38;5;124;43minput\u001b[39;49m\u001b[38;5;124;43m'\u001b[39;49m\u001b[43m)\u001b[49m\n\u001b[1;32m   1410\u001b[0m     \u001b[38;5;28;01mif\u001b[39;00m neighbour \u001b[38;5;129;01mis\u001b[39;00m \u001b[38;5;28;01mNone\u001b[39;00m:\n\u001b[1;32m   1411\u001b[0m         create_copies\u001b[38;5;241m.\u001b[39mappend(\u001b[38;5;28;01mTrue\u001b[39;00m)\n",
      "File \u001b[0;32m~/Documents/github/ptn/.venv/lib/python3.10/site-packages/tensorkrowch/components.py:888\u001b[0m, in \u001b[0;36mAbstractNode.neighbours\u001b[0;34m(self, axis)\u001b[0m\n\u001b[1;32m    886\u001b[0m node1_list \u001b[38;5;241m=\u001b[39m \u001b[38;5;28mself\u001b[39m\u001b[38;5;241m.\u001b[39mis_node1()\n\u001b[1;32m    887\u001b[0m \u001b[38;5;28;01mif\u001b[39;00m axis \u001b[38;5;129;01mis\u001b[39;00m \u001b[38;5;129;01mnot\u001b[39;00m \u001b[38;5;28;01mNone\u001b[39;00m:\n\u001b[0;32m--> 888\u001b[0m     node2 \u001b[38;5;241m=\u001b[39m \u001b[38;5;28;43mself\u001b[39;49m\u001b[43m[\u001b[49m\u001b[43maxis\u001b[49m\u001b[43m]\u001b[49m\u001b[38;5;241m.\u001b[39m_nodes[node1_list[\u001b[38;5;28mself\u001b[39m\u001b[38;5;241m.\u001b[39mget_axis_num(axis)]]\n\u001b[1;32m    889\u001b[0m     \u001b[38;5;28;01mreturn\u001b[39;00m node2\n\u001b[1;32m    891\u001b[0m neighbours \u001b[38;5;241m=\u001b[39m \u001b[38;5;28mset\u001b[39m()\n",
      "File \u001b[0;32m~/Documents/github/ptn/.venv/lib/python3.10/site-packages/tensorkrowch/components.py:1784\u001b[0m, in \u001b[0;36mAbstractNode.__getitem__\u001b[0;34m(self, key)\u001b[0m\n\u001b[1;32m   1782\u001b[0m \u001b[38;5;28;01mif\u001b[39;00m \u001b[38;5;28misinstance\u001b[39m(key, \u001b[38;5;28mslice\u001b[39m):\n\u001b[1;32m   1783\u001b[0m     \u001b[38;5;28;01mreturn\u001b[39;00m \u001b[38;5;28mself\u001b[39m\u001b[38;5;241m.\u001b[39m_edges[key]\n\u001b[0;32m-> 1784\u001b[0m \u001b[38;5;28;01mreturn\u001b[39;00m \u001b[38;5;28;43mself\u001b[39;49m\u001b[38;5;241;43m.\u001b[39;49m\u001b[43mget_edge\u001b[49m\u001b[43m(\u001b[49m\u001b[43mkey\u001b[49m\u001b[43m)\u001b[49m\n",
      "File \u001b[0;32m~/Documents/github/ptn/.venv/lib/python3.10/site-packages/tensorkrowch/components.py:1054\u001b[0m, in \u001b[0;36mAbstractNode.get_edge\u001b[0;34m(self, axis)\u001b[0m\n\u001b[1;32m   1049\u001b[0m \u001b[38;5;28;01mdef\u001b[39;00m\u001b[38;5;250m \u001b[39m\u001b[38;5;21mget_edge\u001b[39m(\u001b[38;5;28mself\u001b[39m, axis: Ax) \u001b[38;5;241m-\u001b[39m\u001b[38;5;241m>\u001b[39m \u001b[38;5;124m'\u001b[39m\u001b[38;5;124mEdge\u001b[39m\u001b[38;5;124m'\u001b[39m:\n\u001b[1;32m   1050\u001b[0m \u001b[38;5;250m    \u001b[39m\u001b[38;5;124;03m\"\"\"\u001b[39;00m\n\u001b[1;32m   1051\u001b[0m \u001b[38;5;124;03m    Returns :class:`Edge` given the :class:`Axis` (or its ``name``\u001b[39;00m\n\u001b[1;32m   1052\u001b[0m \u001b[38;5;124;03m    or ``num``) where it is attached to the node.\u001b[39;00m\n\u001b[1;32m   1053\u001b[0m \u001b[38;5;124;03m    \"\"\"\u001b[39;00m\n\u001b[0;32m-> 1054\u001b[0m     axis_num \u001b[38;5;241m=\u001b[39m \u001b[38;5;28;43mself\u001b[39;49m\u001b[38;5;241;43m.\u001b[39;49m\u001b[43mget_axis_num\u001b[49m\u001b[43m(\u001b[49m\u001b[43maxis\u001b[49m\u001b[43m)\u001b[49m\n\u001b[1;32m   1055\u001b[0m     \u001b[38;5;28;01mreturn\u001b[39;00m \u001b[38;5;28mself\u001b[39m\u001b[38;5;241m.\u001b[39m_edges[axis_num]\n",
      "File \u001b[0;32m~/Documents/github/ptn/.venv/lib/python3.10/site-packages/tensorkrowch/components.py:1019\u001b[0m, in \u001b[0;36mAbstractNode.get_axis_num\u001b[0;34m(self, axis)\u001b[0m\n\u001b[1;32m   1017\u001b[0m         \u001b[38;5;28;01mif\u001b[39;00m axis \u001b[38;5;241m==\u001b[39m ax\u001b[38;5;241m.\u001b[39m_name:\n\u001b[1;32m   1018\u001b[0m             \u001b[38;5;28;01mreturn\u001b[39;00m ax\u001b[38;5;241m.\u001b[39m_num\n\u001b[0;32m-> 1019\u001b[0m     \u001b[38;5;28;01mraise\u001b[39;00m \u001b[38;5;167;01mIndexError\u001b[39;00m(\u001b[38;5;124mf\u001b[39m\u001b[38;5;124m'\u001b[39m\u001b[38;5;124mNode \u001b[39m\u001b[38;5;124m\"\u001b[39m\u001b[38;5;132;01m{\u001b[39;00m\u001b[38;5;28mself\u001b[39m\u001b[38;5;132;01m!s}\u001b[39;00m\u001b[38;5;124m\"\u001b[39m\u001b[38;5;124m has no axis with name \u001b[39m\u001b[38;5;124m\"\u001b[39m\u001b[38;5;132;01m{\u001b[39;00maxis\u001b[38;5;132;01m}\u001b[39;00m\u001b[38;5;124m\"\u001b[39m\u001b[38;5;124m'\u001b[39m)\n\u001b[1;32m   1020\u001b[0m \u001b[38;5;28;01melif\u001b[39;00m \u001b[38;5;28misinstance\u001b[39m(axis, Axis):\n\u001b[1;32m   1021\u001b[0m     \u001b[38;5;28;01mfor\u001b[39;00m ax \u001b[38;5;129;01min\u001b[39;00m \u001b[38;5;28mself\u001b[39m\u001b[38;5;241m.\u001b[39m_axes:\n",
      "\u001b[0;31mIndexError\u001b[0m: Node \"mats_env_node_(112)\" has no axis with name \"input\""
     ]
    }
   ],
   "source": []
  },
  {
   "cell_type": "code",
   "execution_count": null,
   "id": "4a50d7e3",
   "metadata": {},
   "outputs": [],
   "source": []
  }
 ],
 "metadata": {
  "kernelspec": {
   "display_name": ".venv",
   "language": "python",
   "name": "python3"
  },
  "language_info": {
   "codemirror_mode": {
    "name": "ipython",
    "version": 3
   },
   "file_extension": ".py",
   "mimetype": "text/x-python",
   "name": "python",
   "nbconvert_exporter": "python",
   "pygments_lexer": "ipython3",
   "version": "3.10.0"
  }
 },
 "nbformat": 4,
 "nbformat_minor": 5
}
