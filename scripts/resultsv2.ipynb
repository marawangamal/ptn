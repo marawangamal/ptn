{
 "cells": [
  {
   "cell_type": "markdown",
   "id": "fe245e68",
   "metadata": {},
   "source": [
    "## Profiling LSF, SGD & DMRG"
   ]
  },
  {
   "cell_type": "markdown",
   "id": "48ca8c64",
   "metadata": {},
   "source": [
    "#### Memory, Latency & Instability"
   ]
  },
  {
   "cell_type": "code",
   "execution_count": 38,
   "id": "9e5058b2",
   "metadata": {},
   "outputs": [
    {
     "data": {
      "image/png": "[encoded data removed]",
      "text/plain": [
       "<Figure size 500x400 with 1 Axes>"
      ]
     },
     "metadata": {},
     "output_type": "display_data"
    }
   ],
   "source": [
    "import pandas as pd\n",
    "import seaborn as sns\n",
    "import matplotlib.pyplot as plt\n",
    "\n",
    "# Latency:\n",
    "# BM refers to BM+DRMG\n",
    "# >> python scripts/profile_models.py --horizons 128 --models bm mps --device cpu\n",
    "#     latency name   R    H  Do  Di   B sweep_type  sweep_value                                                                                                                                          \n",
    "# 0  1.208001   bm  32  128   2   1  32          H          128\n",
    "# 1  0.161665  mps  32  128   2   1  32          H          128\n",
    "\n",
    "# Memory:\n",
    "# BM refers to BM+DRMG\n",
    "# >> python scripts/profile_memory.py --d_outputs 1024 --models bm mps\n",
    "#   model     d      mem_mb\n",
    "# 0    bm  1024  217.106445\n",
    "# 1   mps  1024    8.503418\n",
    "\n",
    "# Instability:\n",
    "# >> python scripts/profile_instability.py\n",
    "#   name  iters\n",
    "# 0  LSF  10000\n",
    "# 1  SGD      0\n",
    "\n",
    "sns.set_theme()\n",
    "\n",
    "instability_fn = lambda N: 10000 - N + 0.1\n",
    "\n",
    "# Data\n",
    "df_latency_mem = pd.DataFrame({\n",
    "    \"Method\": [\"LSF (ours)\", \"SGD\", \"DMRG\"],\n",
    "    \"Latency (s)\": [0.16, 0.16, 1.2], # SGD and LSF have same latency\n",
    "    \"Memory (MB)\": [8.5, 8.5, 217],\n",
    "    \"Instability\": [instability_fn(10000), instability_fn(0), instability_fn(10000)],\n",
    "})\n",
    "\n",
    "# Melt the dataframe for easier plotting with seaborn\n",
    "df_melted = df_latency_mem.melt(id_vars=\"Method\", var_name=\"Metric\", value_name=\"Value\")\n",
    "\n",
    "plt.figure(figsize=(5, 4))  # smaller width\n",
    "sns.barplot(\n",
    "    data=df_melted,\n",
    "    x=\"Metric\",\n",
    "    y=\"Value\",\n",
    "    hue=\"Method\",\n",
    "    width=0.4 \n",
    ")\n",
    "plt.yscale(\"log\")\n",
    "ax = plt.gca()\n",
    "ax.set_xlabel(None)\n",
    "ax.set_ylabel(None)\n",
    "plt.tight_layout()\n",
    "plt.show()"
   ]
  },
  {
   "cell_type": "markdown",
   "id": "aaaa7741",
   "metadata": {},
   "source": []
  }
 ],
 "metadata": {
  "kernelspec": {
   "display_name": ".venv",
   "language": "python",
   "name": "python3"
  },
  "language_info": {
   "codemirror_mode": {
    "name": "ipython",
    "version": 3
   },
   "file_extension": ".py",
   "mimetype": "text/x-python",
   "name": "python",
   "nbconvert_exporter": "python",
   "pygments_lexer": "ipython3",
   "version": "3.10.0"
  }
 },
 "nbformat": 4,
 "nbformat_minor": 5
}
