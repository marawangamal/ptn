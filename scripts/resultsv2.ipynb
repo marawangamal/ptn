{
 "cells": [
  {
   "cell_type": "markdown",
   "id": "fe245e68",
   "metadata": {},
   "source": [
    "## Profiling LSF, SGD & DMRG"
   ]
  },
  {
   "cell_type": "markdown",
   "id": "48ca8c64",
   "metadata": {},
   "source": [
    "#### Memory, Latency & Instability\n",
    "\n",
    "The results for this plot are obtained by running `python scripts/profile_models.py`"
   ]
  },
  {
   "cell_type": "code",
   "execution_count": null,
   "id": "218a4f09",
   "metadata": {},
   "outputs": [
    {
     "name": "stderr",
     "output_type": "stream",
     "text": [
      " 17%|█▋        | 1703/10000 [00:33<02:39, 51.92it/s]"
     ]
    }
   ],
   "source": [
    "# Instability\n",
    "import torch\n",
    "from tqdm import tqdm\n",
    "from ctn.mheads import MHEADS\n",
    "from ctn.mheads._abc import AbstractDisributionHeadConfig\n",
    "import pandas as pd\n",
    "\n",
    "# Common HPs\n",
    "BATCH_SIZE = 8\n",
    "LR = 1e-3\n",
    "N_ITERS = 10000\n",
    "SEED = 0\n",
    "\n",
    "# Model hps\n",
    "H, R, Do = 100, 8, 2\n",
    "\n",
    "models = [\n",
    "    {\"name\": r\"LSF\", \"model\": \"mps\", \"iters\": 0, \"kwargs\": {}},\n",
    "    {\"name\": r\"SGD\", \"model\": \"mps\", \"iters\": 0, \"kwargs\": {\"use_scale_factors\": False}},\n",
    "]\n",
    "\n",
    "for mdict in models:\n",
    "    model = MHEADS[mdict[\"model\"]](\n",
    "        config=AbstractDisributionHeadConfig(\n",
    "            rank=R,\n",
    "            d_model=1,\n",
    "            d_output=Do,\n",
    "            horizon=H,\n",
    "            **mdict[\"kwargs\"]\n",
    "        )\n",
    "    )\n",
    "    for i in tqdm(range(N_ITERS)):\n",
    "        x = torch.randn(BATCH_SIZE, 1)\n",
    "        y = torch.randint(0, Do, (BATCH_SIZE, H))\n",
    "        try:\n",
    "            if hasattr(model, \"train_example\"):\n",
    "                model.train_example(x, y)\n",
    "            else:\n",
    "                model(x, y)\n",
    "            mdict[\"iters\"] += 1\n",
    "        except Exception as e:\n",
    "            break\n",
    "\n",
    "\n",
    "df = pd.DataFrame(models)[[\"name\", \"iters\"]]\n",
    "\n",
    "print(\"Max iterations: reached for each model\")\n",
    "print(df)\n"
   ]
  },
  {
   "cell_type": "code",
   "execution_count": null,
   "id": "9e5058b2",
   "metadata": {},
   "outputs": [
    {
     "data": {
      "image/png": "[encoded data removed]",
      "text/plain": [
       "<Figure size 500x400 with 1 Axes>"
      ]
     },
     "metadata": {},
     "output_type": "display_data"
    }
   ],
   "source": [
    "import pandas as pd\n",
    "import seaborn as sns\n",
    "import matplotlib.pyplot as plt\n",
    "\n",
    "# CPU Results (D=2)\n",
    "#     latency  peak_memory_MB name   R    H  Do  Di   B sweep_type  sweep_value                                                                                                                                          \n",
    "# 0  1.208001        1.570201   bm  32  128   2   1  32          H          128\n",
    "# 1  0.161665        0.231740  mps  32  128   2   1  32          H          128\n",
    "# 2  0.039397        0.706291   bm  32    8   2   1  32         Do            2\n",
    "# 3  0.010879        0.017302  mps  32    8   2   1  32         Do            2\n",
    "\n",
    "# GPU Results (D=2)\n",
    "#     latency  peak_memory_MB name   R    H  Do  Di   B sweep_type  sweep_value                                                                                                                                          \n",
    "# 0  0.824485       59.143555   bm  32  128   2   1  32          H          128\n",
    "# 1  0.228930      125.894531  mps  32  128   2   1  32          H          128\n",
    "\n",
    "sns.set_theme()\n",
    "\n",
    "instability_fn = lambda N: 10000 - N + 0.1\n",
    "\n",
    "# Data\n",
    "df_latency_mem = pd.DataFrame({\n",
    "    \"Method\": [\"LSF (ours)\", \"SGD\", \"DMRG\"],\n",
    "    \"Latency (s)\": [0.11, 0.095, 1.04], # for d=1024, h=5\n",
    "    \"Memory (MB)\": [8.5, 8.5, 334],  # for d=1024, h=5\n",
    "    \"Instability\": [instability_fn(10000), instability_fn(0), instability_fn(10000)],\n",
    "})\n",
    "\n",
    "# Melt the dataframe for easier plotting with seaborn\n",
    "df_melted = df_latency_mem.melt(id_vars=\"Method\", var_name=\"Metric\", value_name=\"Value\")\n",
    "\n",
    "plt.figure(figsize=(5, 4))  # smaller width\n",
    "sns.barplot(\n",
    "    data=df_melted,\n",
    "    x=\"Metric\",\n",
    "    y=\"Value\",\n",
    "    hue=\"Method\",\n",
    "    width=0.4  # Make bars skinnier (default is 0.8)\n",
    ")\n",
    "plt.yscale(\"log\")\n",
    "ax = plt.gca()\n",
    "ax.set_xlabel(None)\n",
    "ax.set_ylabel(None)\n",
    "plt.tight_layout()\n",
    "plt.show()"
   ]
  },
  {
   "cell_type": "markdown",
   "id": "d7517ca1",
   "metadata": {},
   "source": [
    "#### Instability"
   ]
  },
  {
   "cell_type": "markdown",
   "id": "aaaa7741",
   "metadata": {},
   "source": []
  }
 ],
 "metadata": {
  "kernelspec": {
   "display_name": ".venv",
   "language": "python",
   "name": "python3"
  },
  "language_info": {
   "codemirror_mode": {
    "name": "ipython",
    "version": 3
   },
   "file_extension": ".py",
   "mimetype": "text/x-python",
   "name": "python",
   "nbconvert_exporter": "python",
   "pygments_lexer": "ipython3",
   "version": "3.10.0"
  }
 },
 "nbformat": 4,
 "nbformat_minor": 5
}
